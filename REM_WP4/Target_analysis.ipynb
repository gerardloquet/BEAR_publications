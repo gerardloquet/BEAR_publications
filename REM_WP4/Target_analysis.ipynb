{
 "metadata": {
  "language_info": {
   "codemirror_mode": {
    "name": "ipython",
    "version": 3
   },
   "file_extension": ".py",
   "mimetype": "text/x-python",
   "name": "python",
   "nbconvert_exporter": "python",
   "pygments_lexer": "ipython3",
   "version": "3.7.6-final"
  },
  "orig_nbformat": 2,
  "kernelspec": {
   "name": "python3",
   "display_name": "Python 3"
  }
 },
 "nbformat": 4,
 "nbformat_minor": 2,
 "cells": [
  {
   "cell_type": "code",
   "execution_count": 53,
   "metadata": {},
   "outputs": [],
   "source": [
    "path = '../../Data/data/'"
   ]
  },
  {
   "cell_type": "code",
   "execution_count": 54,
   "metadata": {},
   "outputs": [],
   "source": [
    "#import necessary packages \n",
    "import pandas as pd\n",
    "import numpy as np  \n",
    "import matplotlib.pyplot as plt\n",
    "from pandas import ExcelFile\n"
   ]
  },
  {
   "cell_type": "code",
   "execution_count": 55,
   "metadata": {
    "tags": []
   },
   "outputs": [
    {
     "output_type": "stream",
     "name": "stdout",
     "text": "REM GN data loaded\nREM Oticon data loaded\nREM Widex data loaded\n"
    }
   ],
   "source": [
    "#load the GN data files from AUH and OUH\n",
    "with open(path + 'WP4_OUH_GN_TPI.csv') as input: \n",
    "    REM_OUH_GN = pd.read_csv(input)\n",
    "with open(path + 'WP4_AUH_GN_TPI.csv') as input: \n",
    "    REM_AUH_GN = pd.read_csv(input)\n",
    "print('REM GN data loaded')\n",
    "\n",
    "#load the Oticon data files from AUH and OUH\n",
    "with open(path + 'WP4_OUH_Oticon_TPI.csv') as input: \n",
    "    REM_OUH_GN = pd.read_csv(input)\n",
    "with open(path + 'WP4_AUH_Oticon_TPI.csv') as input: \n",
    "    REM_AUH_GN = pd.read_csv(input)\n",
    "print('REM Oticon data loaded')\n",
    "\n",
    "#load the Widex data files from AUH and OUH\n",
    "with open(path + 'WP4_OUH_Widex_TPI.csv') as input: \n",
    "    REM_OUH_Widex = pd.read_csv(input)\n",
    "with open(path + 'WP4_AUH_Widex_TPI.csv') as input: \n",
    "    REM_AUH_Widex = pd.read_csv(input)\n",
    "print('REM Widex data loaded')\n",
    "\n"
   ]
  },
  {
   "cell_type": "code",
   "execution_count": 56,
   "metadata": {},
   "outputs": [
    {
     "output_type": "execute_result",
     "data": {
      "text/plain": "   Unnamed: 0         RC_ID  ds_re  ds_le  srt_re  srt_le  ac_re_250hz  \\\n0           1  WP4-365-0016    100     96      15      10           20   \n1           2  WP4-365-0017     88    100      25      20           30   \n2           3  WP4-365-0027     96     96      10      15           10   \n3           4  WP4-365-0030     84     92      20      20           15   \n4           5  WP4-365-0031     96     96       5       5           15   \n\n   ac_re_500hz  ac_re_1000hz  ac_re_2000hz  ...  visit_4_fitting report  \\\n0           25            15            30  ...                      No   \n1           25            25            30  ...                     Yes   \n2           15            20            30  ...                     Yes   \n3           20            25            50  ...                      No   \n4           10            10            35  ...                      No   \n\n   hint_srt_v4  sound_id_pct_v4  noise_ann_number_v4  noise_ann_critic_v4  \\\n0          NaN              NaN                  NaN                  NaN   \n1         -2.2             93.0                  7.0                  1.0   \n2         -1.3             93.0                  7.0                  0.0   \n3          NaN              NaN                  NaN                  NaN   \n4          NaN              NaN                  NaN                  NaN   \n\n   spa_hea_direc_v4  spa_hea_w_reg_v4  jfc_srt_v4  comments  schedule_complete  \n0               NaN               NaN         NaN       NaN                NaN  \n1              76.0             100.0         8.8       NaN                NaN  \n2              72.0             100.0         5.6       NaN                NaN  \n3               NaN               NaN         NaN       NaN                NaN  \n4               NaN               NaN         NaN       NaN                NaN  \n\n[5 rows x 109 columns]",
      "text/html": "<div>\n<style scoped>\n    .dataframe tbody tr th:only-of-type {\n        vertical-align: middle;\n    }\n\n    .dataframe tbody tr th {\n        vertical-align: top;\n    }\n\n    .dataframe thead th {\n        text-align: right;\n    }\n</style>\n<table border=\"1\" class=\"dataframe\">\n  <thead>\n    <tr style=\"text-align: right;\">\n      <th></th>\n      <th>Unnamed: 0</th>\n      <th>RC_ID</th>\n      <th>ds_re</th>\n      <th>ds_le</th>\n      <th>srt_re</th>\n      <th>srt_le</th>\n      <th>ac_re_250hz</th>\n      <th>ac_re_500hz</th>\n      <th>ac_re_1000hz</th>\n      <th>ac_re_2000hz</th>\n      <th>...</th>\n      <th>visit_4_fitting report</th>\n      <th>hint_srt_v4</th>\n      <th>sound_id_pct_v4</th>\n      <th>noise_ann_number_v4</th>\n      <th>noise_ann_critic_v4</th>\n      <th>spa_hea_direc_v4</th>\n      <th>spa_hea_w_reg_v4</th>\n      <th>jfc_srt_v4</th>\n      <th>comments</th>\n      <th>schedule_complete</th>\n    </tr>\n  </thead>\n  <tbody>\n    <tr>\n      <th>0</th>\n      <td>1</td>\n      <td>WP4-365-0016</td>\n      <td>100</td>\n      <td>96</td>\n      <td>15</td>\n      <td>10</td>\n      <td>20</td>\n      <td>25</td>\n      <td>15</td>\n      <td>30</td>\n      <td>...</td>\n      <td>No</td>\n      <td>NaN</td>\n      <td>NaN</td>\n      <td>NaN</td>\n      <td>NaN</td>\n      <td>NaN</td>\n      <td>NaN</td>\n      <td>NaN</td>\n      <td>NaN</td>\n      <td>NaN</td>\n    </tr>\n    <tr>\n      <th>1</th>\n      <td>2</td>\n      <td>WP4-365-0017</td>\n      <td>88</td>\n      <td>100</td>\n      <td>25</td>\n      <td>20</td>\n      <td>30</td>\n      <td>25</td>\n      <td>25</td>\n      <td>30</td>\n      <td>...</td>\n      <td>Yes</td>\n      <td>-2.2</td>\n      <td>93.0</td>\n      <td>7.0</td>\n      <td>1.0</td>\n      <td>76.0</td>\n      <td>100.0</td>\n      <td>8.8</td>\n      <td>NaN</td>\n      <td>NaN</td>\n    </tr>\n    <tr>\n      <th>2</th>\n      <td>3</td>\n      <td>WP4-365-0027</td>\n      <td>96</td>\n      <td>96</td>\n      <td>10</td>\n      <td>15</td>\n      <td>10</td>\n      <td>15</td>\n      <td>20</td>\n      <td>30</td>\n      <td>...</td>\n      <td>Yes</td>\n      <td>-1.3</td>\n      <td>93.0</td>\n      <td>7.0</td>\n      <td>0.0</td>\n      <td>72.0</td>\n      <td>100.0</td>\n      <td>5.6</td>\n      <td>NaN</td>\n      <td>NaN</td>\n    </tr>\n    <tr>\n      <th>3</th>\n      <td>4</td>\n      <td>WP4-365-0030</td>\n      <td>84</td>\n      <td>92</td>\n      <td>20</td>\n      <td>20</td>\n      <td>15</td>\n      <td>20</td>\n      <td>25</td>\n      <td>50</td>\n      <td>...</td>\n      <td>No</td>\n      <td>NaN</td>\n      <td>NaN</td>\n      <td>NaN</td>\n      <td>NaN</td>\n      <td>NaN</td>\n      <td>NaN</td>\n      <td>NaN</td>\n      <td>NaN</td>\n      <td>NaN</td>\n    </tr>\n    <tr>\n      <th>4</th>\n      <td>5</td>\n      <td>WP4-365-0031</td>\n      <td>96</td>\n      <td>96</td>\n      <td>5</td>\n      <td>5</td>\n      <td>15</td>\n      <td>10</td>\n      <td>10</td>\n      <td>35</td>\n      <td>...</td>\n      <td>No</td>\n      <td>NaN</td>\n      <td>NaN</td>\n      <td>NaN</td>\n      <td>NaN</td>\n      <td>NaN</td>\n      <td>NaN</td>\n      <td>NaN</td>\n      <td>NaN</td>\n      <td>NaN</td>\n    </tr>\n  </tbody>\n</table>\n<p>5 rows × 109 columns</p>\n</div>"
     },
     "metadata": {},
     "execution_count": 56
    }
   ],
   "source": [
    "REM_AUH_GN.head()"
   ]
  },
  {
   "cell_type": "code",
   "execution_count": 59,
   "metadata": {},
   "outputs": [],
   "source": [
    "#merge the AUH and OUH data\n",
    "REM_GN = pd.concat([REM_OUH_GN, REM_AUH_GN],axis=0).reset_index().drop(['index','Unnamed: 0'],axis=1)"
   ]
  },
  {
   "cell_type": "code",
   "execution_count": 60,
   "metadata": {},
   "outputs": [
    {
     "output_type": "execute_result",
     "data": {
      "text/plain": "           RC_ID  ds_re  ds_le  srt_re  srt_le  ac_re_250hz  ac_re_500hz  \\\n0          364-2     84     88      25      30           20           20   \n1          364-4     80     84      30      30           40           35   \n2          364-6     72     64      30      25           15           25   \n3          364-8     96     96      15      15           15           10   \n4         364-10     92     84      30      25           20           25   \n5         364-12     80     72      20      25           15           20   \n6         364-14     92     84      20      25           15           20   \n7         364-16     96    100      20      20           20           20   \n8         364-18     80     96      15      15           10           15   \n9         364-72     96     88      25      25           20           20   \n10        364-80     84     76      20      15           15           20   \n11       364-110     88     84      20      15           15           20   \n12       364-114     96     96      25      25           25           30   \n13       364-118    100     96      10      15            5           15   \n14       364-126     88     88      30      25           20           30   \n15  WP4-365-0016    100     96      15      10           20           25   \n16  WP4-365-0017     88    100      25      20           30           25   \n17  WP4-365-0027     96     96      10      15           10           15   \n18  WP4-365-0030     84     92      20      20           15           20   \n19  WP4-365-0031     96     96       5       5           15           10   \n20  WP4-365-0032    100     88      35      25           25           35   \n21  WP4-365-0033     88     84      10      20           10           10   \n\n    ac_re_1000hz  ac_re_2000hz  ac_re_3000hz  ...  visit_4_fitting report  \\\n0             35            45          55.0  ...                      No   \n1             20            30          45.0  ...                     Yes   \n2             35            65           NaN  ...                     Yes   \n3             10            10          25.0  ...                     Yes   \n4             30            45          50.0  ...                     Yes   \n5             25            50          60.0  ...                     Yes   \n6             30            55           NaN  ...                     Yes   \n7             25            30           NaN  ...                     Yes   \n8             15            35          50.0  ...                     Yes   \n9             30            60          60.0  ...                      No   \n10            30            30          50.0  ...                     Yes   \n11            25            35          55.0  ...                      No   \n12            35            35          50.0  ...                      No   \n13            30            25          15.0  ...                      No   \n14            40            45           NaN  ...                      No   \n15            15            30          60.0  ...                      No   \n16            25            30          45.0  ...                     Yes   \n17            20            30          70.0  ...                     Yes   \n18            25            50          55.0  ...                      No   \n19            10            35          45.0  ...                      No   \n20            45            35          35.0  ...                      No   \n21            25            55          60.0  ...                     Yes   \n\n    hint_srt_v4  sound_id_pct_v4  noise_ann_number_v4  noise_ann_critic_v4  \\\n0           NaN              NaN                  NaN                  NaN   \n1          -1.3             87.0                  7.0                  6.0   \n2          -0.3             87.0                  7.0                  0.0   \n3          -3.2             93.0                  7.0                  0.0   \n4          -0.6             80.0                  7.0                  2.0   \n5          -1.5            100.0                  7.0                  0.0   \n6           0.0             87.0                  7.0                  0.0   \n7          -0.8             80.0                  7.0                  1.0   \n8          -1.6             93.0                  7.0                  0.0   \n9           NaN              NaN                  NaN                  NaN   \n10         -0.9             80.0                  7.0                  0.0   \n11          NaN              NaN                  NaN                  NaN   \n12          NaN              NaN                  NaN                  NaN   \n13          NaN              NaN                  NaN                  NaN   \n14          NaN              NaN                  NaN                  NaN   \n15          NaN              NaN                  NaN                  NaN   \n16         -2.2             93.0                  7.0                  1.0   \n17         -1.3             93.0                  7.0                  0.0   \n18          NaN              NaN                  NaN                  NaN   \n19          NaN              NaN                  NaN                  NaN   \n20          NaN              NaN                  NaN                  NaN   \n21          0.1             80.0                  7.0                  0.0   \n\n    spa_hea_direc_v4  spa_hea_w_reg_v4  jfc_srt_v4  comments  \\\n0                NaN               NaN         NaN       NaN   \n1               72.0             100.0         0.4       NaN   \n2               84.0             100.0         1.2       NaN   \n3               88.0             100.0        -6.0       NaN   \n4               84.0             100.0        -0.8       NaN   \n5               80.0              92.0         0.4       NaN   \n6               84.0             100.0        -1.6       NaN   \n7               68.0             100.0        -0.4       NaN   \n8               92.0              92.0        -2.8       NaN   \n9                NaN               NaN         NaN       NaN   \n10              68.0             100.0         0.0       NaN   \n11               NaN               NaN         NaN       NaN   \n12               NaN               NaN         NaN       NaN   \n13               NaN               NaN         NaN       NaN   \n14               NaN               NaN         NaN       NaN   \n15               NaN               NaN         NaN       NaN   \n16              76.0             100.0         8.8       NaN   \n17              72.0             100.0         5.6       NaN   \n18               NaN               NaN         NaN       NaN   \n19               NaN               NaN         NaN       NaN   \n20               NaN               NaN         NaN       NaN   \n21              56.0              92.0         7.2       NaN   \n\n    schedule_complete  \n0                 NaN  \n1                 NaN  \n2                 NaN  \n3                 NaN  \n4                 NaN  \n5                 NaN  \n6                 NaN  \n7                 NaN  \n8                 NaN  \n9                 NaN  \n10                NaN  \n11                NaN  \n12                NaN  \n13                NaN  \n14                NaN  \n15                NaN  \n16                NaN  \n17                NaN  \n18                NaN  \n19                NaN  \n20                NaN  \n21                NaN  \n\n[22 rows x 108 columns]",
      "text/html": "<div>\n<style scoped>\n    .dataframe tbody tr th:only-of-type {\n        vertical-align: middle;\n    }\n\n    .dataframe tbody tr th {\n        vertical-align: top;\n    }\n\n    .dataframe thead th {\n        text-align: right;\n    }\n</style>\n<table border=\"1\" class=\"dataframe\">\n  <thead>\n    <tr style=\"text-align: right;\">\n      <th></th>\n      <th>RC_ID</th>\n      <th>ds_re</th>\n      <th>ds_le</th>\n      <th>srt_re</th>\n      <th>srt_le</th>\n      <th>ac_re_250hz</th>\n      <th>ac_re_500hz</th>\n      <th>ac_re_1000hz</th>\n      <th>ac_re_2000hz</th>\n      <th>ac_re_3000hz</th>\n      <th>...</th>\n      <th>visit_4_fitting report</th>\n      <th>hint_srt_v4</th>\n      <th>sound_id_pct_v4</th>\n      <th>noise_ann_number_v4</th>\n      <th>noise_ann_critic_v4</th>\n      <th>spa_hea_direc_v4</th>\n      <th>spa_hea_w_reg_v4</th>\n      <th>jfc_srt_v4</th>\n      <th>comments</th>\n      <th>schedule_complete</th>\n    </tr>\n  </thead>\n  <tbody>\n    <tr>\n      <th>0</th>\n      <td>364-2</td>\n      <td>84</td>\n      <td>88</td>\n      <td>25</td>\n      <td>30</td>\n      <td>20</td>\n      <td>20</td>\n      <td>35</td>\n      <td>45</td>\n      <td>55.0</td>\n      <td>...</td>\n      <td>No</td>\n      <td>NaN</td>\n      <td>NaN</td>\n      <td>NaN</td>\n      <td>NaN</td>\n      <td>NaN</td>\n      <td>NaN</td>\n      <td>NaN</td>\n      <td>NaN</td>\n      <td>NaN</td>\n    </tr>\n    <tr>\n      <th>1</th>\n      <td>364-4</td>\n      <td>80</td>\n      <td>84</td>\n      <td>30</td>\n      <td>30</td>\n      <td>40</td>\n      <td>35</td>\n      <td>20</td>\n      <td>30</td>\n      <td>45.0</td>\n      <td>...</td>\n      <td>Yes</td>\n      <td>-1.3</td>\n      <td>87.0</td>\n      <td>7.0</td>\n      <td>6.0</td>\n      <td>72.0</td>\n      <td>100.0</td>\n      <td>0.4</td>\n      <td>NaN</td>\n      <td>NaN</td>\n    </tr>\n    <tr>\n      <th>2</th>\n      <td>364-6</td>\n      <td>72</td>\n      <td>64</td>\n      <td>30</td>\n      <td>25</td>\n      <td>15</td>\n      <td>25</td>\n      <td>35</td>\n      <td>65</td>\n      <td>NaN</td>\n      <td>...</td>\n      <td>Yes</td>\n      <td>-0.3</td>\n      <td>87.0</td>\n      <td>7.0</td>\n      <td>0.0</td>\n      <td>84.0</td>\n      <td>100.0</td>\n      <td>1.2</td>\n      <td>NaN</td>\n      <td>NaN</td>\n    </tr>\n    <tr>\n      <th>3</th>\n      <td>364-8</td>\n      <td>96</td>\n      <td>96</td>\n      <td>15</td>\n      <td>15</td>\n      <td>15</td>\n      <td>10</td>\n      <td>10</td>\n      <td>10</td>\n      <td>25.0</td>\n      <td>...</td>\n      <td>Yes</td>\n      <td>-3.2</td>\n      <td>93.0</td>\n      <td>7.0</td>\n      <td>0.0</td>\n      <td>88.0</td>\n      <td>100.0</td>\n      <td>-6.0</td>\n      <td>NaN</td>\n      <td>NaN</td>\n    </tr>\n    <tr>\n      <th>4</th>\n      <td>364-10</td>\n      <td>92</td>\n      <td>84</td>\n      <td>30</td>\n      <td>25</td>\n      <td>20</td>\n      <td>25</td>\n      <td>30</td>\n      <td>45</td>\n      <td>50.0</td>\n      <td>...</td>\n      <td>Yes</td>\n      <td>-0.6</td>\n      <td>80.0</td>\n      <td>7.0</td>\n      <td>2.0</td>\n      <td>84.0</td>\n      <td>100.0</td>\n      <td>-0.8</td>\n      <td>NaN</td>\n      <td>NaN</td>\n    </tr>\n    <tr>\n      <th>5</th>\n      <td>364-12</td>\n      <td>80</td>\n      <td>72</td>\n      <td>20</td>\n      <td>25</td>\n      <td>15</td>\n      <td>20</td>\n      <td>25</td>\n      <td>50</td>\n      <td>60.0</td>\n      <td>...</td>\n      <td>Yes</td>\n      <td>-1.5</td>\n      <td>100.0</td>\n      <td>7.0</td>\n      <td>0.0</td>\n      <td>80.0</td>\n      <td>92.0</td>\n      <td>0.4</td>\n      <td>NaN</td>\n      <td>NaN</td>\n    </tr>\n    <tr>\n      <th>6</th>\n      <td>364-14</td>\n      <td>92</td>\n      <td>84</td>\n      <td>20</td>\n      <td>25</td>\n      <td>15</td>\n      <td>20</td>\n      <td>30</td>\n      <td>55</td>\n      <td>NaN</td>\n      <td>...</td>\n      <td>Yes</td>\n      <td>0.0</td>\n      <td>87.0</td>\n      <td>7.0</td>\n      <td>0.0</td>\n      <td>84.0</td>\n      <td>100.0</td>\n      <td>-1.6</td>\n      <td>NaN</td>\n      <td>NaN</td>\n    </tr>\n    <tr>\n      <th>7</th>\n      <td>364-16</td>\n      <td>96</td>\n      <td>100</td>\n      <td>20</td>\n      <td>20</td>\n      <td>20</td>\n      <td>20</td>\n      <td>25</td>\n      <td>30</td>\n      <td>NaN</td>\n      <td>...</td>\n      <td>Yes</td>\n      <td>-0.8</td>\n      <td>80.0</td>\n      <td>7.0</td>\n      <td>1.0</td>\n      <td>68.0</td>\n      <td>100.0</td>\n      <td>-0.4</td>\n      <td>NaN</td>\n      <td>NaN</td>\n    </tr>\n    <tr>\n      <th>8</th>\n      <td>364-18</td>\n      <td>80</td>\n      <td>96</td>\n      <td>15</td>\n      <td>15</td>\n      <td>10</td>\n      <td>15</td>\n      <td>15</td>\n      <td>35</td>\n      <td>50.0</td>\n      <td>...</td>\n      <td>Yes</td>\n      <td>-1.6</td>\n      <td>93.0</td>\n      <td>7.0</td>\n      <td>0.0</td>\n      <td>92.0</td>\n      <td>92.0</td>\n      <td>-2.8</td>\n      <td>NaN</td>\n      <td>NaN</td>\n    </tr>\n    <tr>\n      <th>9</th>\n      <td>364-72</td>\n      <td>96</td>\n      <td>88</td>\n      <td>25</td>\n      <td>25</td>\n      <td>20</td>\n      <td>20</td>\n      <td>30</td>\n      <td>60</td>\n      <td>60.0</td>\n      <td>...</td>\n      <td>No</td>\n      <td>NaN</td>\n      <td>NaN</td>\n      <td>NaN</td>\n      <td>NaN</td>\n      <td>NaN</td>\n      <td>NaN</td>\n      <td>NaN</td>\n      <td>NaN</td>\n      <td>NaN</td>\n    </tr>\n    <tr>\n      <th>10</th>\n      <td>364-80</td>\n      <td>84</td>\n      <td>76</td>\n      <td>20</td>\n      <td>15</td>\n      <td>15</td>\n      <td>20</td>\n      <td>30</td>\n      <td>30</td>\n      <td>50.0</td>\n      <td>...</td>\n      <td>Yes</td>\n      <td>-0.9</td>\n      <td>80.0</td>\n      <td>7.0</td>\n      <td>0.0</td>\n      <td>68.0</td>\n      <td>100.0</td>\n      <td>0.0</td>\n      <td>NaN</td>\n      <td>NaN</td>\n    </tr>\n    <tr>\n      <th>11</th>\n      <td>364-110</td>\n      <td>88</td>\n      <td>84</td>\n      <td>20</td>\n      <td>15</td>\n      <td>15</td>\n      <td>20</td>\n      <td>25</td>\n      <td>35</td>\n      <td>55.0</td>\n      <td>...</td>\n      <td>No</td>\n      <td>NaN</td>\n      <td>NaN</td>\n      <td>NaN</td>\n      <td>NaN</td>\n      <td>NaN</td>\n      <td>NaN</td>\n      <td>NaN</td>\n      <td>NaN</td>\n      <td>NaN</td>\n    </tr>\n    <tr>\n      <th>12</th>\n      <td>364-114</td>\n      <td>96</td>\n      <td>96</td>\n      <td>25</td>\n      <td>25</td>\n      <td>25</td>\n      <td>30</td>\n      <td>35</td>\n      <td>35</td>\n      <td>50.0</td>\n      <td>...</td>\n      <td>No</td>\n      <td>NaN</td>\n      <td>NaN</td>\n      <td>NaN</td>\n      <td>NaN</td>\n      <td>NaN</td>\n      <td>NaN</td>\n      <td>NaN</td>\n      <td>NaN</td>\n      <td>NaN</td>\n    </tr>\n    <tr>\n      <th>13</th>\n      <td>364-118</td>\n      <td>100</td>\n      <td>96</td>\n      <td>10</td>\n      <td>15</td>\n      <td>5</td>\n      <td>15</td>\n      <td>30</td>\n      <td>25</td>\n      <td>15.0</td>\n      <td>...</td>\n      <td>No</td>\n      <td>NaN</td>\n      <td>NaN</td>\n      <td>NaN</td>\n      <td>NaN</td>\n      <td>NaN</td>\n      <td>NaN</td>\n      <td>NaN</td>\n      <td>NaN</td>\n      <td>NaN</td>\n    </tr>\n    <tr>\n      <th>14</th>\n      <td>364-126</td>\n      <td>88</td>\n      <td>88</td>\n      <td>30</td>\n      <td>25</td>\n      <td>20</td>\n      <td>30</td>\n      <td>40</td>\n      <td>45</td>\n      <td>NaN</td>\n      <td>...</td>\n      <td>No</td>\n      <td>NaN</td>\n      <td>NaN</td>\n      <td>NaN</td>\n      <td>NaN</td>\n      <td>NaN</td>\n      <td>NaN</td>\n      <td>NaN</td>\n      <td>NaN</td>\n      <td>NaN</td>\n    </tr>\n    <tr>\n      <th>15</th>\n      <td>WP4-365-0016</td>\n      <td>100</td>\n      <td>96</td>\n      <td>15</td>\n      <td>10</td>\n      <td>20</td>\n      <td>25</td>\n      <td>15</td>\n      <td>30</td>\n      <td>60.0</td>\n      <td>...</td>\n      <td>No</td>\n      <td>NaN</td>\n      <td>NaN</td>\n      <td>NaN</td>\n      <td>NaN</td>\n      <td>NaN</td>\n      <td>NaN</td>\n      <td>NaN</td>\n      <td>NaN</td>\n      <td>NaN</td>\n    </tr>\n    <tr>\n      <th>16</th>\n      <td>WP4-365-0017</td>\n      <td>88</td>\n      <td>100</td>\n      <td>25</td>\n      <td>20</td>\n      <td>30</td>\n      <td>25</td>\n      <td>25</td>\n      <td>30</td>\n      <td>45.0</td>\n      <td>...</td>\n      <td>Yes</td>\n      <td>-2.2</td>\n      <td>93.0</td>\n      <td>7.0</td>\n      <td>1.0</td>\n      <td>76.0</td>\n      <td>100.0</td>\n      <td>8.8</td>\n      <td>NaN</td>\n      <td>NaN</td>\n    </tr>\n    <tr>\n      <th>17</th>\n      <td>WP4-365-0027</td>\n      <td>96</td>\n      <td>96</td>\n      <td>10</td>\n      <td>15</td>\n      <td>10</td>\n      <td>15</td>\n      <td>20</td>\n      <td>30</td>\n      <td>70.0</td>\n      <td>...</td>\n      <td>Yes</td>\n      <td>-1.3</td>\n      <td>93.0</td>\n      <td>7.0</td>\n      <td>0.0</td>\n      <td>72.0</td>\n      <td>100.0</td>\n      <td>5.6</td>\n      <td>NaN</td>\n      <td>NaN</td>\n    </tr>\n    <tr>\n      <th>18</th>\n      <td>WP4-365-0030</td>\n      <td>84</td>\n      <td>92</td>\n      <td>20</td>\n      <td>20</td>\n      <td>15</td>\n      <td>20</td>\n      <td>25</td>\n      <td>50</td>\n      <td>55.0</td>\n      <td>...</td>\n      <td>No</td>\n      <td>NaN</td>\n      <td>NaN</td>\n      <td>NaN</td>\n      <td>NaN</td>\n      <td>NaN</td>\n      <td>NaN</td>\n      <td>NaN</td>\n      <td>NaN</td>\n      <td>NaN</td>\n    </tr>\n    <tr>\n      <th>19</th>\n      <td>WP4-365-0031</td>\n      <td>96</td>\n      <td>96</td>\n      <td>5</td>\n      <td>5</td>\n      <td>15</td>\n      <td>10</td>\n      <td>10</td>\n      <td>35</td>\n      <td>45.0</td>\n      <td>...</td>\n      <td>No</td>\n      <td>NaN</td>\n      <td>NaN</td>\n      <td>NaN</td>\n      <td>NaN</td>\n      <td>NaN</td>\n      <td>NaN</td>\n      <td>NaN</td>\n      <td>NaN</td>\n      <td>NaN</td>\n    </tr>\n    <tr>\n      <th>20</th>\n      <td>WP4-365-0032</td>\n      <td>100</td>\n      <td>88</td>\n      <td>35</td>\n      <td>25</td>\n      <td>25</td>\n      <td>35</td>\n      <td>45</td>\n      <td>35</td>\n      <td>35.0</td>\n      <td>...</td>\n      <td>No</td>\n      <td>NaN</td>\n      <td>NaN</td>\n      <td>NaN</td>\n      <td>NaN</td>\n      <td>NaN</td>\n      <td>NaN</td>\n      <td>NaN</td>\n      <td>NaN</td>\n      <td>NaN</td>\n    </tr>\n    <tr>\n      <th>21</th>\n      <td>WP4-365-0033</td>\n      <td>88</td>\n      <td>84</td>\n      <td>10</td>\n      <td>20</td>\n      <td>10</td>\n      <td>10</td>\n      <td>25</td>\n      <td>55</td>\n      <td>60.0</td>\n      <td>...</td>\n      <td>Yes</td>\n      <td>0.1</td>\n      <td>80.0</td>\n      <td>7.0</td>\n      <td>0.0</td>\n      <td>56.0</td>\n      <td>92.0</td>\n      <td>7.2</td>\n      <td>NaN</td>\n      <td>NaN</td>\n    </tr>\n  </tbody>\n</table>\n<p>22 rows × 108 columns</p>\n</div>"
     },
     "metadata": {},
     "execution_count": 60
    }
   ],
   "source": [
    "REM_GN"
   ]
  },
  {
   "cell_type": "code",
   "execution_count": null,
   "metadata": {},
   "outputs": [],
   "source": []
  }
 ]
}