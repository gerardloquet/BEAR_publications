{
 "metadata": {
  "language_info": {
   "codemirror_mode": {
    "name": "ipython",
    "version": 3
   },
   "file_extension": ".py",
   "mimetype": "text/x-python",
   "name": "python",
   "nbconvert_exporter": "python",
   "pygments_lexer": "ipython3",
   "version": "3.7.6-final"
  },
  "orig_nbformat": 2,
  "kernelspec": {
   "name": "python3",
   "display_name": "Python 3"
  }
 },
 "nbformat": 4,
 "nbformat_minor": 2,
 "cells": [
  {
   "cell_type": "code",
   "execution_count": 6,
   "metadata": {},
   "outputs": [],
   "source": [
    "path = '../../Data/data/'"
   ]
  },
  {
   "cell_type": "code",
   "execution_count": 7,
   "metadata": {},
   "outputs": [],
   "source": [
    "#import necessary packages \n",
    "import pandas as pd\n",
    "import numpy as np  \n",
    "import matplotlib.pyplot as plt\n",
    "from pandas import ExcelFile\n"
   ]
  },
  {
   "cell_type": "markdown",
   "metadata": {},
   "source": [
    "## Now load the questionnaire related data from OUH and AUH "
   ]
  },
  {
   "cell_type": "code",
   "execution_count": 8,
   "metadata": {
    "tags": []
   },
   "outputs": [
    {
     "output_type": "stream",
     "name": "stdout",
     "text": "WP4 GN data loaded\nWP4 Oticon data loaded\nWP4 Widex data loaded\n"
    }
   ],
   "source": [
    "#load the GN data files from AUH and OUH\n",
    "with open(path + 'WP4_OUH_GN_TPI.csv') as input: \n",
    "    WP4_OUH_GN = pd.read_csv(input)\n",
    "with open(path + 'WP4_AUH_GN_TPI.csv') as input: \n",
    "    WP4_AUH_GN = pd.read_csv(input)\n",
    "print('WP4 GN data loaded')\n",
    "\n",
    "#load the Oticon data files from AUH and OUH\n",
    "with open(path + 'WP4_OUH_Oticon_TPI.csv') as input: \n",
    "    WP4_OUH_GN = pd.read_csv(input)\n",
    "with open(path + 'WP4_AUH_Oticon_TPI.csv') as input: \n",
    "    WP4_AUH_GN = pd.read_csv(input)\n",
    "print('WP4 Oticon data loaded')\n",
    "\n",
    "#load the Widex data files from AUH and OUH\n",
    "with open(path + 'WP4_OUH_Widex_TPI.csv') as input: \n",
    "    WP4_OUH_Widex = pd.read_csv(input)\n",
    "with open(path + 'WP4_AUH_Widex_TPI.csv') as input: \n",
    "    WP4_AUH_Widex = pd.read_csv(input)\n",
    "print('WP4 Widex data loaded')\n",
    "\n"
   ]
  },
  {
   "cell_type": "code",
   "execution_count": 309,
   "metadata": {},
   "outputs": [
    {
     "output_type": "execute_result",
     "data": {
      "text/plain": "   Unnamed: 0         RC_ID  ds_re  ds_le  srt_re  srt_le  ac_re_250hz  \\\n0           1  WP4-365-0016    100     96      15      10           20   \n1           2  WP4-365-0017     88    100      25      20           30   \n2           3  WP4-365-0027     96     96      10      15           10   \n3           4  WP4-365-0030     84     92      20      20           15   \n4           5  WP4-365-0031     96     96       5       5           15   \n5           6  WP4-365-0032    100     88      35      25           25   \n6           7  WP4-365-0033     88     84      10      20           10   \n\n   ac_re_500hz  ac_re_1000hz  ac_re_2000hz  ...  visit_4_fitting report  \\\n0           25            15            30  ...                      No   \n1           25            25            30  ...                     Yes   \n2           15            20            30  ...                     Yes   \n3           20            25            50  ...                      No   \n4           10            10            35  ...                      No   \n5           35            45            35  ...                      No   \n6           10            25            55  ...                     Yes   \n\n   hint_srt_v4  sound_id_pct_v4  noise_ann_number_v4  noise_ann_critic_v4  \\\n0          NaN              NaN                  NaN                  NaN   \n1         -2.2             93.0                  7.0                  1.0   \n2         -1.3             93.0                  7.0                  0.0   \n3          NaN              NaN                  NaN                  NaN   \n4          NaN              NaN                  NaN                  NaN   \n5          NaN              NaN                  NaN                  NaN   \n6          0.1             80.0                  7.0                  0.0   \n\n   spa_hea_direc_v4  spa_hea_w_reg_v4  jfc_srt_v4  comments  schedule_complete  \n0               NaN               NaN         NaN       NaN                NaN  \n1              76.0             100.0         8.8       NaN                NaN  \n2              72.0             100.0         5.6       NaN                NaN  \n3               NaN               NaN         NaN       NaN                NaN  \n4               NaN               NaN         NaN       NaN                NaN  \n5               NaN               NaN         NaN       NaN                NaN  \n6              56.0              92.0         7.2       NaN                NaN  \n\n[7 rows x 109 columns]",
      "text/html": "<div>\n<style scoped>\n    .dataframe tbody tr th:only-of-type {\n        vertical-align: middle;\n    }\n\n    .dataframe tbody tr th {\n        vertical-align: top;\n    }\n\n    .dataframe thead th {\n        text-align: right;\n    }\n</style>\n<table border=\"1\" class=\"dataframe\">\n  <thead>\n    <tr style=\"text-align: right;\">\n      <th></th>\n      <th>Unnamed: 0</th>\n      <th>RC_ID</th>\n      <th>ds_re</th>\n      <th>ds_le</th>\n      <th>srt_re</th>\n      <th>srt_le</th>\n      <th>ac_re_250hz</th>\n      <th>ac_re_500hz</th>\n      <th>ac_re_1000hz</th>\n      <th>ac_re_2000hz</th>\n      <th>...</th>\n      <th>visit_4_fitting report</th>\n      <th>hint_srt_v4</th>\n      <th>sound_id_pct_v4</th>\n      <th>noise_ann_number_v4</th>\n      <th>noise_ann_critic_v4</th>\n      <th>spa_hea_direc_v4</th>\n      <th>spa_hea_w_reg_v4</th>\n      <th>jfc_srt_v4</th>\n      <th>comments</th>\n      <th>schedule_complete</th>\n    </tr>\n  </thead>\n  <tbody>\n    <tr>\n      <th>0</th>\n      <td>1</td>\n      <td>WP4-365-0016</td>\n      <td>100</td>\n      <td>96</td>\n      <td>15</td>\n      <td>10</td>\n      <td>20</td>\n      <td>25</td>\n      <td>15</td>\n      <td>30</td>\n      <td>...</td>\n      <td>No</td>\n      <td>NaN</td>\n      <td>NaN</td>\n      <td>NaN</td>\n      <td>NaN</td>\n      <td>NaN</td>\n      <td>NaN</td>\n      <td>NaN</td>\n      <td>NaN</td>\n      <td>NaN</td>\n    </tr>\n    <tr>\n      <th>1</th>\n      <td>2</td>\n      <td>WP4-365-0017</td>\n      <td>88</td>\n      <td>100</td>\n      <td>25</td>\n      <td>20</td>\n      <td>30</td>\n      <td>25</td>\n      <td>25</td>\n      <td>30</td>\n      <td>...</td>\n      <td>Yes</td>\n      <td>-2.2</td>\n      <td>93.0</td>\n      <td>7.0</td>\n      <td>1.0</td>\n      <td>76.0</td>\n      <td>100.0</td>\n      <td>8.8</td>\n      <td>NaN</td>\n      <td>NaN</td>\n    </tr>\n    <tr>\n      <th>2</th>\n      <td>3</td>\n      <td>WP4-365-0027</td>\n      <td>96</td>\n      <td>96</td>\n      <td>10</td>\n      <td>15</td>\n      <td>10</td>\n      <td>15</td>\n      <td>20</td>\n      <td>30</td>\n      <td>...</td>\n      <td>Yes</td>\n      <td>-1.3</td>\n      <td>93.0</td>\n      <td>7.0</td>\n      <td>0.0</td>\n      <td>72.0</td>\n      <td>100.0</td>\n      <td>5.6</td>\n      <td>NaN</td>\n      <td>NaN</td>\n    </tr>\n    <tr>\n      <th>3</th>\n      <td>4</td>\n      <td>WP4-365-0030</td>\n      <td>84</td>\n      <td>92</td>\n      <td>20</td>\n      <td>20</td>\n      <td>15</td>\n      <td>20</td>\n      <td>25</td>\n      <td>50</td>\n      <td>...</td>\n      <td>No</td>\n      <td>NaN</td>\n      <td>NaN</td>\n      <td>NaN</td>\n      <td>NaN</td>\n      <td>NaN</td>\n      <td>NaN</td>\n      <td>NaN</td>\n      <td>NaN</td>\n      <td>NaN</td>\n    </tr>\n    <tr>\n      <th>4</th>\n      <td>5</td>\n      <td>WP4-365-0031</td>\n      <td>96</td>\n      <td>96</td>\n      <td>5</td>\n      <td>5</td>\n      <td>15</td>\n      <td>10</td>\n      <td>10</td>\n      <td>35</td>\n      <td>...</td>\n      <td>No</td>\n      <td>NaN</td>\n      <td>NaN</td>\n      <td>NaN</td>\n      <td>NaN</td>\n      <td>NaN</td>\n      <td>NaN</td>\n      <td>NaN</td>\n      <td>NaN</td>\n      <td>NaN</td>\n    </tr>\n    <tr>\n      <th>5</th>\n      <td>6</td>\n      <td>WP4-365-0032</td>\n      <td>100</td>\n      <td>88</td>\n      <td>35</td>\n      <td>25</td>\n      <td>25</td>\n      <td>35</td>\n      <td>45</td>\n      <td>35</td>\n      <td>...</td>\n      <td>No</td>\n      <td>NaN</td>\n      <td>NaN</td>\n      <td>NaN</td>\n      <td>NaN</td>\n      <td>NaN</td>\n      <td>NaN</td>\n      <td>NaN</td>\n      <td>NaN</td>\n      <td>NaN</td>\n    </tr>\n    <tr>\n      <th>6</th>\n      <td>7</td>\n      <td>WP4-365-0033</td>\n      <td>88</td>\n      <td>84</td>\n      <td>10</td>\n      <td>20</td>\n      <td>10</td>\n      <td>10</td>\n      <td>25</td>\n      <td>55</td>\n      <td>...</td>\n      <td>Yes</td>\n      <td>0.1</td>\n      <td>80.0</td>\n      <td>7.0</td>\n      <td>0.0</td>\n      <td>56.0</td>\n      <td>92.0</td>\n      <td>7.2</td>\n      <td>NaN</td>\n      <td>NaN</td>\n    </tr>\n  </tbody>\n</table>\n<p>7 rows × 109 columns</p>\n</div>"
     },
     "metadata": {},
     "execution_count": 309
    }
   ],
   "source": [
    "WP4_AUH_GN.head(20)"
   ]
  },
  {
   "cell_type": "code",
   "execution_count": 229,
   "metadata": {},
   "outputs": [],
   "source": [
    "#merge the AUH and OUH data\n",
    "WP4_GN = pd.concat([WP4_OUH_GN, WP4_AUH_GN],axis=0).reset_index().drop(['index','Unnamed: 0'],axis=1)"
   ]
  },
  {
   "cell_type": "code",
   "execution_count": 310,
   "metadata": {},
   "outputs": [
    {
     "output_type": "execute_result",
     "data": {
      "text/plain": "0            364-2\n1            364-4\n2            364-6\n3            364-8\n4           364-10\n5           364-12\n6           364-14\n7           364-16\n8           364-18\n9           364-72\n10          364-80\n11         364-110\n12         364-114\n13         364-118\n14         364-126\n15    WP4-365-0016\n16    WP4-365-0017\n17    WP4-365-0027\n18    WP4-365-0030\n19    WP4-365-0031\n20    WP4-365-0032\n21    WP4-365-0033\nName: RC_ID, dtype: object"
     },
     "metadata": {},
     "execution_count": 310
    }
   ],
   "source": [
    "WP4_GN['RC_ID']"
   ]
  },
  {
   "cell_type": "code",
   "execution_count": 307,
   "metadata": {},
   "outputs": [
    {
     "output_type": "execute_result",
     "data": {
      "text/plain": "Index(['RC_ID', 'ds_re', 'ds_le', 'srt_re', 'srt_le', 'ac_re_250hz',\n       'ac_re_500hz', 'ac_re_1000hz', 'ac_re_2000hz', 'ac_re_3000hz',\n       'ac_re_4000hz', 'ac_re_6000hz', 'ac_re_8000hz', 'ac_le_250hz',\n       'ac_le_500hz', 'ac_le_1000hz', 'ac_le_2000hz', 'ac_le_3000hz',\n       'ac_le_4000hz', 'ac_le_6000hz', 'ac_le_8000hz', 'Region', 'sex', 'age',\n       'Profile', 'hint_srt_re', 'hint_srt_le', 'hint_srt_bin',\n       'acalos_htl_re_250hz', 'acalos_htl_re_500hz'],\n      dtype='object')"
     },
     "metadata": {},
     "execution_count": 307
    }
   ],
   "source": [
    "WP4_GN.keys()[:30]"
   ]
  },
  {
   "cell_type": "markdown",
   "metadata": {},
   "source": [
    "## From here on do the REM analysis"
   ]
  },
  {
   "cell_type": "code",
   "execution_count": 25,
   "metadata": {},
   "outputs": [],
   "source": [
    "path = '../../Data/REM/WP4/'"
   ]
  },
  {
   "cell_type": "code",
   "execution_count": 302,
   "metadata": {
    "tags": []
   },
   "outputs": [],
   "source": [
    "#load all the GN REM data files from sharepoint\n",
    "import os\n",
    "text_files = [f for f in os.listdir(path) if f.endswith('.txt')]\n",
    " \n",
    "REM = {}\n",
    "cnt = 0\n",
    "for f in text_files:\n",
    "    REM[cnt] = pd.read_csv(path + f,sep=';', skipinitialspace=True, index_col=False)\n",
    "    #REM[cnt].drop('RC_ID', axis=1, inplace = True)\n",
    "    cnt += 1\n"
   ]
  },
  {
   "cell_type": "code",
   "execution_count": 314,
   "metadata": {},
   "outputs": [
    {
     "output_type": "execute_result",
     "data": {
      "text/plain": "                     RC_ID      Test    Ear         86        129        172  \\\n0   364-120_GN_REM_fitting   REUG 70   Left   0.612970   0.536675   0.171286   \n1   364-120_GN_REM_fitting   REUG 70  Right   1.314050   0.020148  -0.501501   \n2   364-120_GN_REM_fitting   REOG 70   Left  -0.185355   0.326860   0.100727   \n3   364-120_GN_REM_fitting   REOG 70  Right -12.492073 -21.474111 -29.275915   \n4   364-120_GN_REM_fitting   REIG 65   Left  -0.432215  -0.080257  -0.529297   \n5   364-120_GN_REM_fitting   REIG 65  Right  -7.791037 -20.094201 -27.886803   \n6   364-120_GN_REM_fitting   REIG 65   Left  -0.810957  -0.212984  -0.473507   \n7   364-120_GN_REM_fitting   REIG 65  Right  -9.403891 -21.945192 -28.961454   \n8   364-120_GN_REM_fitting   REIG 65   Left  -0.419555  -0.230366  -0.465658   \n9   364-120_GN_REM_fitting   REIG 65  Right -10.889551 -23.538206 -30.195452   \n10  364-120_GN_REM_fitting   REIG 65   Left  -0.753312  -0.208314  -0.454042   \n11  364-120_GN_REM_fitting   REIG 65  Right  -9.248549 -21.772858 -28.454816   \n12  364-120_GN_REM_fitting   REIG 65   Left  -1.593889  -0.300770  -0.517383   \n13  364-120_GN_REM_fitting   REIG 65  Right -11.288611 -22.584758 -28.986094   \n14  364-120_GN_REM_fitting   REIG 65   Left  -0.921037  -0.213848  -0.416537   \n15  364-120_GN_REM_fitting   REIG 65  Right  -5.707682 -19.668356 -27.960899   \n16  364-120_GN_REM_fitting   REIG 65   Left   1.175037   0.287562  -0.227781   \n17  364-120_GN_REM_fitting   REIG 65  Right  -2.312897 -16.345184 -23.956629   \n18  364-120_GN_REM_fitting   REIG 65   Left  -0.407684  -0.152899  -0.346292   \n19  364-120_GN_REM_fitting   REIG 65  Right  -8.165497 -21.504428 -28.050535   \n20  364-120_GN_REM_fitting   REIG 65   Left  -0.591450  -0.218492  -0.381163   \n21  364-120_GN_REM_fitting   REIG 65  Right  -8.798939 -20.680767 -28.012805   \n22  364-120_GN_REM_fitting   REIG 55   Left  -2.768630  -0.840944  -0.503274   \n23  364-120_GN_REM_fitting   REIG 55  Right  -4.079262 -10.896180 -17.796531   \n24  364-120_GN_REM_fitting   REIG 55   Left  -0.764831  -0.275430  -0.465643   \n25  364-120_GN_REM_fitting   REIG 55  Right   0.171250  -8.802150 -16.714276   \n26  364-120_GN_REM_fitting   REIG 80   Left  -0.243773  -0.054234  -0.122810   \n27  364-120_GN_REM_fitting   REIG 80  Right -14.165943 -26.341486 -32.467958   \n28  364-120_GN_REM_fitting   REIG 80   Left  -4.863745  -1.955526  -0.447987   \n29  364-120_GN_REM_fitting   REIG 80  Right -14.533323 -18.625576 -25.226636   \n30  364-120_GN_REM_fitting  LTASS 65   Left  -0.391616   0.302707  -0.119158   \n31  364-120_GN_REM_fitting  LTASS 65  Right -11.771584 -20.165886 -28.578488   \n\n          215        258        301        344  ...       9589       9632  \\\n0   -0.832453  -1.229678  -1.891347  -1.934324  ...  -0.773613  -0.614045   \n1   -1.244800  -1.387738  -1.870829  -1.653185  ...  -1.709206  -1.828744   \n2   -0.916023  -1.366431  -2.020708  -2.163825  ...  -1.168280  -0.069651   \n3  -32.331181 -33.064076 -32.877812 -33.336283  ...  -5.247963  -5.319788   \n4   -0.769555  -0.351617   0.155349  -0.261473  ...  -1.018010  -1.514400   \n5  -29.924090 -29.327088 -28.530741 -30.322241  ...   2.262776   1.473728   \n6   -0.601158  -0.274443   0.052327  -0.271767  ...  -2.294252  -2.197013   \n7  -30.597195 -29.919838 -29.193832 -31.233731  ...  -2.265637  -2.729941   \n8   -0.525648  -0.247384   0.022898  -0.306082  ...   2.871103   3.137740   \n9  -32.357415 -31.224498 -30.042625 -31.273162  ...  -2.255554  -2.743588   \n10  -0.527895  -0.259972  -0.047589  -0.424922  ...  -0.844345  -0.416409   \n11 -30.500441 -30.200944 -29.561376 -31.134401  ...  -4.102691  -4.276806   \n12  -0.554483  -0.249316  -0.040972  -0.366010  ...  -2.532070  -3.049238   \n13 -30.962526 -30.031068 -29.293777 -31.097520  ...  -3.085035  -3.892966   \n14  -0.450201  -0.154960   0.128153  -0.166439  ...  -4.939045  -4.875465   \n15 -30.344769 -29.349719 -26.539978 -26.342128  ...  -0.931084  -1.232265   \n16  -0.425839  -0.121987   0.228896   0.005366  ...  -3.031076  -3.505491   \n17 -23.603138 -23.121931 -24.441612 -28.871417  ...  -3.183125  -2.818727   \n18  -0.401952  -0.151395   0.079414  -0.337368  ...  -7.366992  -7.254069   \n19 -30.103871 -30.037570 -29.051255 -30.569146  ...  -2.902386  -2.713084   \n20  -0.366911  -0.087419   0.126158  -0.376692  ...  -5.395921  -6.155743   \n21 -30.855081 -31.389773 -30.306920 -30.634440  ...  -2.426372  -2.368889   \n22  -0.474500  -0.101124   0.209673  -0.249337  ...   8.735727   8.812987   \n23 -20.298360 -19.832168 -19.077155 -22.573399  ...   7.728022   7.792208   \n24  -0.512315  -0.147477   0.106223  -0.395053  ...   5.605390   5.195379   \n25 -19.518000 -19.315203 -18.666550 -21.765875  ...   6.791019   6.525331   \n26  -0.086799   0.160452   0.237768  -0.487896  ... -12.713730 -12.411650   \n27 -33.982854 -34.118299 -33.987278 -33.881254  ...  -8.894824  -8.542464   \n28  -0.266813   0.211780   0.388677  -0.221098  ... -11.816962 -11.560169   \n29 -26.975711 -27.643015 -29.067496 -31.369206  ... -11.537603 -12.148542   \n30  -1.215392  -1.380171  -1.840220  -2.305812  ...  -8.769172  -9.916514   \n31 -31.709725 -31.665862 -30.951105 -31.323975  ...  -5.935015  -6.926867   \n\n         9675       9718       9761       9804       9847       9890  \\\n0    0.108764   0.988080   1.848029   0.940119   0.101417   0.641585   \n1   -1.767792  -1.158295   0.059158   0.887843   0.009276  -1.167571   \n2   -0.473695  -1.852151  -3.089742  -5.531702  -6.509133  -7.182913   \n3   -5.715842  -5.026405  -4.371205  -4.838911  -5.975288  -5.550551   \n4   -2.943224  -4.014487  -4.887356  -5.327450  -4.666996  -5.769519   \n5    0.549441  -0.892139  -1.965792  -3.850609  -4.440210  -3.751773   \n6   -3.162241  -3.916561  -4.140491  -3.347833  -1.715480  -2.474828   \n7   -3.990132  -4.853246  -5.066126  -5.668893  -4.442603  -3.058501   \n8    1.582296  -0.060670  -1.255014  -1.577048  -0.658065  -1.261943   \n9   -3.304769  -4.185075  -4.841725  -6.458235  -6.268752  -3.782803   \n10  -1.268528  -3.747288  -5.015312  -3.730947  -2.191618  -3.059924   \n11  -4.759550  -6.526212  -7.666601  -8.515101  -7.470123  -4.744221   \n12  -3.408758  -4.276807  -4.432696  -3.603024  -3.168846  -2.671122   \n13  -4.133685  -4.819938  -5.249323  -7.150382  -7.162660  -4.664259   \n14  -5.922573  -8.081092  -8.832186  -6.938045  -4.695549  -5.047713   \n15  -1.634350  -2.620123  -4.103233  -4.914382  -3.444368  -2.579162   \n16  -5.462767  -6.693901  -6.964313  -6.774798  -6.221098  -6.620399   \n17  -3.075153  -3.203502  -3.454159  -4.506051  -3.658604  -2.028776   \n18  -8.593830 -10.407622 -11.133650 -10.780176  -9.850698  -9.654140   \n19  -2.367690  -2.539243  -3.714099  -5.130927  -4.489204  -2.327178   \n20  -7.630459  -8.882176  -9.608794  -9.510001  -8.642017  -8.992156   \n21  -2.569904  -3.291545  -3.739715  -5.129817  -4.571939  -2.622535   \n22   8.969435   8.726530   8.694293   9.902741  10.662657  10.099218   \n23   7.505715   6.897087   6.339895   5.062794   5.503446   7.595050   \n24   3.926031   3.092377   2.770904   2.920303   4.400170   3.601994   \n25   5.784662   5.600422   5.036865   3.422058   4.415597   6.118605   \n26 -13.227715 -14.488255 -15.518958 -15.057987 -14.096423 -13.827232   \n27  -9.483024 -10.617125 -12.313192 -14.061821 -13.106567 -10.867124   \n28 -12.145857 -13.069620 -13.445762 -12.310140 -10.721929  -9.962431   \n29 -13.026873 -13.519199 -14.376752 -15.653821 -15.078812 -13.740672   \n30 -10.628460 -11.546807 -11.627067 -11.980341 -11.875342 -11.848585   \n31  -7.231438  -7.317298  -7.457371  -7.967784  -8.733485  -8.709175   \n\n         9933       9976  \n0    1.184040   7.635985  \n1   -1.616027   2.053276  \n2   -8.250076  -1.834762  \n3   -6.971845  -3.619201  \n4   -6.895446  -8.666915  \n5   -3.892233  -4.608599  \n6   -2.910053  -4.718941  \n7   -1.799563  -1.664284  \n8   -2.267633  -4.114583  \n9   -2.070300  -3.166725  \n10  -3.437538  -4.524190  \n11  -3.377303  -3.069231  \n12  -1.629236  -2.110269  \n13  -2.723076  -3.468564  \n14  -5.861035  -7.625032  \n15  -2.983456  -3.366993  \n16  -7.756883 -10.431516  \n17  -1.465440  -2.577450  \n18  -9.837189 -11.892651  \n19  -1.277844  -1.629269  \n20  -9.462198 -10.949455  \n21  -2.246951  -2.265990  \n22  10.234119   8.131349  \n23   8.907206   8.442194  \n24   2.494582   0.944758  \n25   6.629565   6.505416  \n26 -12.743422 -14.766655  \n27  -9.212655  -9.853220  \n28  -9.900070 -12.195379  \n29 -13.362647 -14.320979  \n30 -11.638205  -4.727802  \n31  -8.201251  -2.842244  \n\n[32 rows x 234 columns]",
      "text/html": "<div>\n<style scoped>\n    .dataframe tbody tr th:only-of-type {\n        vertical-align: middle;\n    }\n\n    .dataframe tbody tr th {\n        vertical-align: top;\n    }\n\n    .dataframe thead th {\n        text-align: right;\n    }\n</style>\n<table border=\"1\" class=\"dataframe\">\n  <thead>\n    <tr style=\"text-align: right;\">\n      <th></th>\n      <th>RC_ID</th>\n      <th>Test</th>\n      <th>Ear</th>\n      <th>86</th>\n      <th>129</th>\n      <th>172</th>\n      <th>215</th>\n      <th>258</th>\n      <th>301</th>\n      <th>344</th>\n      <th>...</th>\n      <th>9589</th>\n      <th>9632</th>\n      <th>9675</th>\n      <th>9718</th>\n      <th>9761</th>\n      <th>9804</th>\n      <th>9847</th>\n      <th>9890</th>\n      <th>9933</th>\n      <th>9976</th>\n    </tr>\n  </thead>\n  <tbody>\n    <tr>\n      <th>0</th>\n      <td>364-120_GN_REM_fitting</td>\n      <td>REUG 70</td>\n      <td>Left</td>\n      <td>0.612970</td>\n      <td>0.536675</td>\n      <td>0.171286</td>\n      <td>-0.832453</td>\n      <td>-1.229678</td>\n      <td>-1.891347</td>\n      <td>-1.934324</td>\n      <td>...</td>\n      <td>-0.773613</td>\n      <td>-0.614045</td>\n      <td>0.108764</td>\n      <td>0.988080</td>\n      <td>1.848029</td>\n      <td>0.940119</td>\n      <td>0.101417</td>\n      <td>0.641585</td>\n      <td>1.184040</td>\n      <td>7.635985</td>\n    </tr>\n    <tr>\n      <th>1</th>\n      <td>364-120_GN_REM_fitting</td>\n      <td>REUG 70</td>\n      <td>Right</td>\n      <td>1.314050</td>\n      <td>0.020148</td>\n      <td>-0.501501</td>\n      <td>-1.244800</td>\n      <td>-1.387738</td>\n      <td>-1.870829</td>\n      <td>-1.653185</td>\n      <td>...</td>\n      <td>-1.709206</td>\n      <td>-1.828744</td>\n      <td>-1.767792</td>\n      <td>-1.158295</td>\n      <td>0.059158</td>\n      <td>0.887843</td>\n      <td>0.009276</td>\n      <td>-1.167571</td>\n      <td>-1.616027</td>\n      <td>2.053276</td>\n    </tr>\n    <tr>\n      <th>2</th>\n      <td>364-120_GN_REM_fitting</td>\n      <td>REOG 70</td>\n      <td>Left</td>\n      <td>-0.185355</td>\n      <td>0.326860</td>\n      <td>0.100727</td>\n      <td>-0.916023</td>\n      <td>-1.366431</td>\n      <td>-2.020708</td>\n      <td>-2.163825</td>\n      <td>...</td>\n      <td>-1.168280</td>\n      <td>-0.069651</td>\n      <td>-0.473695</td>\n      <td>-1.852151</td>\n      <td>-3.089742</td>\n      <td>-5.531702</td>\n      <td>-6.509133</td>\n      <td>-7.182913</td>\n      <td>-8.250076</td>\n      <td>-1.834762</td>\n    </tr>\n    <tr>\n      <th>3</th>\n      <td>364-120_GN_REM_fitting</td>\n      <td>REOG 70</td>\n      <td>Right</td>\n      <td>-12.492073</td>\n      <td>-21.474111</td>\n      <td>-29.275915</td>\n      <td>-32.331181</td>\n      <td>-33.064076</td>\n      <td>-32.877812</td>\n      <td>-33.336283</td>\n      <td>...</td>\n      <td>-5.247963</td>\n      <td>-5.319788</td>\n      <td>-5.715842</td>\n      <td>-5.026405</td>\n      <td>-4.371205</td>\n      <td>-4.838911</td>\n      <td>-5.975288</td>\n      <td>-5.550551</td>\n      <td>-6.971845</td>\n      <td>-3.619201</td>\n    </tr>\n    <tr>\n      <th>4</th>\n      <td>364-120_GN_REM_fitting</td>\n      <td>REIG 65</td>\n      <td>Left</td>\n      <td>-0.432215</td>\n      <td>-0.080257</td>\n      <td>-0.529297</td>\n      <td>-0.769555</td>\n      <td>-0.351617</td>\n      <td>0.155349</td>\n      <td>-0.261473</td>\n      <td>...</td>\n      <td>-1.018010</td>\n      <td>-1.514400</td>\n      <td>-2.943224</td>\n      <td>-4.014487</td>\n      <td>-4.887356</td>\n      <td>-5.327450</td>\n      <td>-4.666996</td>\n      <td>-5.769519</td>\n      <td>-6.895446</td>\n      <td>-8.666915</td>\n    </tr>\n    <tr>\n      <th>5</th>\n      <td>364-120_GN_REM_fitting</td>\n      <td>REIG 65</td>\n      <td>Right</td>\n      <td>-7.791037</td>\n      <td>-20.094201</td>\n      <td>-27.886803</td>\n      <td>-29.924090</td>\n      <td>-29.327088</td>\n      <td>-28.530741</td>\n      <td>-30.322241</td>\n      <td>...</td>\n      <td>2.262776</td>\n      <td>1.473728</td>\n      <td>0.549441</td>\n      <td>-0.892139</td>\n      <td>-1.965792</td>\n      <td>-3.850609</td>\n      <td>-4.440210</td>\n      <td>-3.751773</td>\n      <td>-3.892233</td>\n      <td>-4.608599</td>\n    </tr>\n    <tr>\n      <th>6</th>\n      <td>364-120_GN_REM_fitting</td>\n      <td>REIG 65</td>\n      <td>Left</td>\n      <td>-0.810957</td>\n      <td>-0.212984</td>\n      <td>-0.473507</td>\n      <td>-0.601158</td>\n      <td>-0.274443</td>\n      <td>0.052327</td>\n      <td>-0.271767</td>\n      <td>...</td>\n      <td>-2.294252</td>\n      <td>-2.197013</td>\n      <td>-3.162241</td>\n      <td>-3.916561</td>\n      <td>-4.140491</td>\n      <td>-3.347833</td>\n      <td>-1.715480</td>\n      <td>-2.474828</td>\n      <td>-2.910053</td>\n      <td>-4.718941</td>\n    </tr>\n    <tr>\n      <th>7</th>\n      <td>364-120_GN_REM_fitting</td>\n      <td>REIG 65</td>\n      <td>Right</td>\n      <td>-9.403891</td>\n      <td>-21.945192</td>\n      <td>-28.961454</td>\n      <td>-30.597195</td>\n      <td>-29.919838</td>\n      <td>-29.193832</td>\n      <td>-31.233731</td>\n      <td>...</td>\n      <td>-2.265637</td>\n      <td>-2.729941</td>\n      <td>-3.990132</td>\n      <td>-4.853246</td>\n      <td>-5.066126</td>\n      <td>-5.668893</td>\n      <td>-4.442603</td>\n      <td>-3.058501</td>\n      <td>-1.799563</td>\n      <td>-1.664284</td>\n    </tr>\n    <tr>\n      <th>8</th>\n      <td>364-120_GN_REM_fitting</td>\n      <td>REIG 65</td>\n      <td>Left</td>\n      <td>-0.419555</td>\n      <td>-0.230366</td>\n      <td>-0.465658</td>\n      <td>-0.525648</td>\n      <td>-0.247384</td>\n      <td>0.022898</td>\n      <td>-0.306082</td>\n      <td>...</td>\n      <td>2.871103</td>\n      <td>3.137740</td>\n      <td>1.582296</td>\n      <td>-0.060670</td>\n      <td>-1.255014</td>\n      <td>-1.577048</td>\n      <td>-0.658065</td>\n      <td>-1.261943</td>\n      <td>-2.267633</td>\n      <td>-4.114583</td>\n    </tr>\n    <tr>\n      <th>9</th>\n      <td>364-120_GN_REM_fitting</td>\n      <td>REIG 65</td>\n      <td>Right</td>\n      <td>-10.889551</td>\n      <td>-23.538206</td>\n      <td>-30.195452</td>\n      <td>-32.357415</td>\n      <td>-31.224498</td>\n      <td>-30.042625</td>\n      <td>-31.273162</td>\n      <td>...</td>\n      <td>-2.255554</td>\n      <td>-2.743588</td>\n      <td>-3.304769</td>\n      <td>-4.185075</td>\n      <td>-4.841725</td>\n      <td>-6.458235</td>\n      <td>-6.268752</td>\n      <td>-3.782803</td>\n      <td>-2.070300</td>\n      <td>-3.166725</td>\n    </tr>\n    <tr>\n      <th>10</th>\n      <td>364-120_GN_REM_fitting</td>\n      <td>REIG 65</td>\n      <td>Left</td>\n      <td>-0.753312</td>\n      <td>-0.208314</td>\n      <td>-0.454042</td>\n      <td>-0.527895</td>\n      <td>-0.259972</td>\n      <td>-0.047589</td>\n      <td>-0.424922</td>\n      <td>...</td>\n      <td>-0.844345</td>\n      <td>-0.416409</td>\n      <td>-1.268528</td>\n      <td>-3.747288</td>\n      <td>-5.015312</td>\n      <td>-3.730947</td>\n      <td>-2.191618</td>\n      <td>-3.059924</td>\n      <td>-3.437538</td>\n      <td>-4.524190</td>\n    </tr>\n    <tr>\n      <th>11</th>\n      <td>364-120_GN_REM_fitting</td>\n      <td>REIG 65</td>\n      <td>Right</td>\n      <td>-9.248549</td>\n      <td>-21.772858</td>\n      <td>-28.454816</td>\n      <td>-30.500441</td>\n      <td>-30.200944</td>\n      <td>-29.561376</td>\n      <td>-31.134401</td>\n      <td>...</td>\n      <td>-4.102691</td>\n      <td>-4.276806</td>\n      <td>-4.759550</td>\n      <td>-6.526212</td>\n      <td>-7.666601</td>\n      <td>-8.515101</td>\n      <td>-7.470123</td>\n      <td>-4.744221</td>\n      <td>-3.377303</td>\n      <td>-3.069231</td>\n    </tr>\n    <tr>\n      <th>12</th>\n      <td>364-120_GN_REM_fitting</td>\n      <td>REIG 65</td>\n      <td>Left</td>\n      <td>-1.593889</td>\n      <td>-0.300770</td>\n      <td>-0.517383</td>\n      <td>-0.554483</td>\n      <td>-0.249316</td>\n      <td>-0.040972</td>\n      <td>-0.366010</td>\n      <td>...</td>\n      <td>-2.532070</td>\n      <td>-3.049238</td>\n      <td>-3.408758</td>\n      <td>-4.276807</td>\n      <td>-4.432696</td>\n      <td>-3.603024</td>\n      <td>-3.168846</td>\n      <td>-2.671122</td>\n      <td>-1.629236</td>\n      <td>-2.110269</td>\n    </tr>\n    <tr>\n      <th>13</th>\n      <td>364-120_GN_REM_fitting</td>\n      <td>REIG 65</td>\n      <td>Right</td>\n      <td>-11.288611</td>\n      <td>-22.584758</td>\n      <td>-28.986094</td>\n      <td>-30.962526</td>\n      <td>-30.031068</td>\n      <td>-29.293777</td>\n      <td>-31.097520</td>\n      <td>...</td>\n      <td>-3.085035</td>\n      <td>-3.892966</td>\n      <td>-4.133685</td>\n      <td>-4.819938</td>\n      <td>-5.249323</td>\n      <td>-7.150382</td>\n      <td>-7.162660</td>\n      <td>-4.664259</td>\n      <td>-2.723076</td>\n      <td>-3.468564</td>\n    </tr>\n    <tr>\n      <th>14</th>\n      <td>364-120_GN_REM_fitting</td>\n      <td>REIG 65</td>\n      <td>Left</td>\n      <td>-0.921037</td>\n      <td>-0.213848</td>\n      <td>-0.416537</td>\n      <td>-0.450201</td>\n      <td>-0.154960</td>\n      <td>0.128153</td>\n      <td>-0.166439</td>\n      <td>...</td>\n      <td>-4.939045</td>\n      <td>-4.875465</td>\n      <td>-5.922573</td>\n      <td>-8.081092</td>\n      <td>-8.832186</td>\n      <td>-6.938045</td>\n      <td>-4.695549</td>\n      <td>-5.047713</td>\n      <td>-5.861035</td>\n      <td>-7.625032</td>\n    </tr>\n    <tr>\n      <th>15</th>\n      <td>364-120_GN_REM_fitting</td>\n      <td>REIG 65</td>\n      <td>Right</td>\n      <td>-5.707682</td>\n      <td>-19.668356</td>\n      <td>-27.960899</td>\n      <td>-30.344769</td>\n      <td>-29.349719</td>\n      <td>-26.539978</td>\n      <td>-26.342128</td>\n      <td>...</td>\n      <td>-0.931084</td>\n      <td>-1.232265</td>\n      <td>-1.634350</td>\n      <td>-2.620123</td>\n      <td>-4.103233</td>\n      <td>-4.914382</td>\n      <td>-3.444368</td>\n      <td>-2.579162</td>\n      <td>-2.983456</td>\n      <td>-3.366993</td>\n    </tr>\n    <tr>\n      <th>16</th>\n      <td>364-120_GN_REM_fitting</td>\n      <td>REIG 65</td>\n      <td>Left</td>\n      <td>1.175037</td>\n      <td>0.287562</td>\n      <td>-0.227781</td>\n      <td>-0.425839</td>\n      <td>-0.121987</td>\n      <td>0.228896</td>\n      <td>0.005366</td>\n      <td>...</td>\n      <td>-3.031076</td>\n      <td>-3.505491</td>\n      <td>-5.462767</td>\n      <td>-6.693901</td>\n      <td>-6.964313</td>\n      <td>-6.774798</td>\n      <td>-6.221098</td>\n      <td>-6.620399</td>\n      <td>-7.756883</td>\n      <td>-10.431516</td>\n    </tr>\n    <tr>\n      <th>17</th>\n      <td>364-120_GN_REM_fitting</td>\n      <td>REIG 65</td>\n      <td>Right</td>\n      <td>-2.312897</td>\n      <td>-16.345184</td>\n      <td>-23.956629</td>\n      <td>-23.603138</td>\n      <td>-23.121931</td>\n      <td>-24.441612</td>\n      <td>-28.871417</td>\n      <td>...</td>\n      <td>-3.183125</td>\n      <td>-2.818727</td>\n      <td>-3.075153</td>\n      <td>-3.203502</td>\n      <td>-3.454159</td>\n      <td>-4.506051</td>\n      <td>-3.658604</td>\n      <td>-2.028776</td>\n      <td>-1.465440</td>\n      <td>-2.577450</td>\n    </tr>\n    <tr>\n      <th>18</th>\n      <td>364-120_GN_REM_fitting</td>\n      <td>REIG 65</td>\n      <td>Left</td>\n      <td>-0.407684</td>\n      <td>-0.152899</td>\n      <td>-0.346292</td>\n      <td>-0.401952</td>\n      <td>-0.151395</td>\n      <td>0.079414</td>\n      <td>-0.337368</td>\n      <td>...</td>\n      <td>-7.366992</td>\n      <td>-7.254069</td>\n      <td>-8.593830</td>\n      <td>-10.407622</td>\n      <td>-11.133650</td>\n      <td>-10.780176</td>\n      <td>-9.850698</td>\n      <td>-9.654140</td>\n      <td>-9.837189</td>\n      <td>-11.892651</td>\n    </tr>\n    <tr>\n      <th>19</th>\n      <td>364-120_GN_REM_fitting</td>\n      <td>REIG 65</td>\n      <td>Right</td>\n      <td>-8.165497</td>\n      <td>-21.504428</td>\n      <td>-28.050535</td>\n      <td>-30.103871</td>\n      <td>-30.037570</td>\n      <td>-29.051255</td>\n      <td>-30.569146</td>\n      <td>...</td>\n      <td>-2.902386</td>\n      <td>-2.713084</td>\n      <td>-2.367690</td>\n      <td>-2.539243</td>\n      <td>-3.714099</td>\n      <td>-5.130927</td>\n      <td>-4.489204</td>\n      <td>-2.327178</td>\n      <td>-1.277844</td>\n      <td>-1.629269</td>\n    </tr>\n    <tr>\n      <th>20</th>\n      <td>364-120_GN_REM_fitting</td>\n      <td>REIG 65</td>\n      <td>Left</td>\n      <td>-0.591450</td>\n      <td>-0.218492</td>\n      <td>-0.381163</td>\n      <td>-0.366911</td>\n      <td>-0.087419</td>\n      <td>0.126158</td>\n      <td>-0.376692</td>\n      <td>...</td>\n      <td>-5.395921</td>\n      <td>-6.155743</td>\n      <td>-7.630459</td>\n      <td>-8.882176</td>\n      <td>-9.608794</td>\n      <td>-9.510001</td>\n      <td>-8.642017</td>\n      <td>-8.992156</td>\n      <td>-9.462198</td>\n      <td>-10.949455</td>\n    </tr>\n    <tr>\n      <th>21</th>\n      <td>364-120_GN_REM_fitting</td>\n      <td>REIG 65</td>\n      <td>Right</td>\n      <td>-8.798939</td>\n      <td>-20.680767</td>\n      <td>-28.012805</td>\n      <td>-30.855081</td>\n      <td>-31.389773</td>\n      <td>-30.306920</td>\n      <td>-30.634440</td>\n      <td>...</td>\n      <td>-2.426372</td>\n      <td>-2.368889</td>\n      <td>-2.569904</td>\n      <td>-3.291545</td>\n      <td>-3.739715</td>\n      <td>-5.129817</td>\n      <td>-4.571939</td>\n      <td>-2.622535</td>\n      <td>-2.246951</td>\n      <td>-2.265990</td>\n    </tr>\n    <tr>\n      <th>22</th>\n      <td>364-120_GN_REM_fitting</td>\n      <td>REIG 55</td>\n      <td>Left</td>\n      <td>-2.768630</td>\n      <td>-0.840944</td>\n      <td>-0.503274</td>\n      <td>-0.474500</td>\n      <td>-0.101124</td>\n      <td>0.209673</td>\n      <td>-0.249337</td>\n      <td>...</td>\n      <td>8.735727</td>\n      <td>8.812987</td>\n      <td>8.969435</td>\n      <td>8.726530</td>\n      <td>8.694293</td>\n      <td>9.902741</td>\n      <td>10.662657</td>\n      <td>10.099218</td>\n      <td>10.234119</td>\n      <td>8.131349</td>\n    </tr>\n    <tr>\n      <th>23</th>\n      <td>364-120_GN_REM_fitting</td>\n      <td>REIG 55</td>\n      <td>Right</td>\n      <td>-4.079262</td>\n      <td>-10.896180</td>\n      <td>-17.796531</td>\n      <td>-20.298360</td>\n      <td>-19.832168</td>\n      <td>-19.077155</td>\n      <td>-22.573399</td>\n      <td>...</td>\n      <td>7.728022</td>\n      <td>7.792208</td>\n      <td>7.505715</td>\n      <td>6.897087</td>\n      <td>6.339895</td>\n      <td>5.062794</td>\n      <td>5.503446</td>\n      <td>7.595050</td>\n      <td>8.907206</td>\n      <td>8.442194</td>\n    </tr>\n    <tr>\n      <th>24</th>\n      <td>364-120_GN_REM_fitting</td>\n      <td>REIG 55</td>\n      <td>Left</td>\n      <td>-0.764831</td>\n      <td>-0.275430</td>\n      <td>-0.465643</td>\n      <td>-0.512315</td>\n      <td>-0.147477</td>\n      <td>0.106223</td>\n      <td>-0.395053</td>\n      <td>...</td>\n      <td>5.605390</td>\n      <td>5.195379</td>\n      <td>3.926031</td>\n      <td>3.092377</td>\n      <td>2.770904</td>\n      <td>2.920303</td>\n      <td>4.400170</td>\n      <td>3.601994</td>\n      <td>2.494582</td>\n      <td>0.944758</td>\n    </tr>\n    <tr>\n      <th>25</th>\n      <td>364-120_GN_REM_fitting</td>\n      <td>REIG 55</td>\n      <td>Right</td>\n      <td>0.171250</td>\n      <td>-8.802150</td>\n      <td>-16.714276</td>\n      <td>-19.518000</td>\n      <td>-19.315203</td>\n      <td>-18.666550</td>\n      <td>-21.765875</td>\n      <td>...</td>\n      <td>6.791019</td>\n      <td>6.525331</td>\n      <td>5.784662</td>\n      <td>5.600422</td>\n      <td>5.036865</td>\n      <td>3.422058</td>\n      <td>4.415597</td>\n      <td>6.118605</td>\n      <td>6.629565</td>\n      <td>6.505416</td>\n    </tr>\n    <tr>\n      <th>26</th>\n      <td>364-120_GN_REM_fitting</td>\n      <td>REIG 80</td>\n      <td>Left</td>\n      <td>-0.243773</td>\n      <td>-0.054234</td>\n      <td>-0.122810</td>\n      <td>-0.086799</td>\n      <td>0.160452</td>\n      <td>0.237768</td>\n      <td>-0.487896</td>\n      <td>...</td>\n      <td>-12.713730</td>\n      <td>-12.411650</td>\n      <td>-13.227715</td>\n      <td>-14.488255</td>\n      <td>-15.518958</td>\n      <td>-15.057987</td>\n      <td>-14.096423</td>\n      <td>-13.827232</td>\n      <td>-12.743422</td>\n      <td>-14.766655</td>\n    </tr>\n    <tr>\n      <th>27</th>\n      <td>364-120_GN_REM_fitting</td>\n      <td>REIG 80</td>\n      <td>Right</td>\n      <td>-14.165943</td>\n      <td>-26.341486</td>\n      <td>-32.467958</td>\n      <td>-33.982854</td>\n      <td>-34.118299</td>\n      <td>-33.987278</td>\n      <td>-33.881254</td>\n      <td>...</td>\n      <td>-8.894824</td>\n      <td>-8.542464</td>\n      <td>-9.483024</td>\n      <td>-10.617125</td>\n      <td>-12.313192</td>\n      <td>-14.061821</td>\n      <td>-13.106567</td>\n      <td>-10.867124</td>\n      <td>-9.212655</td>\n      <td>-9.853220</td>\n    </tr>\n    <tr>\n      <th>28</th>\n      <td>364-120_GN_REM_fitting</td>\n      <td>REIG 80</td>\n      <td>Left</td>\n      <td>-4.863745</td>\n      <td>-1.955526</td>\n      <td>-0.447987</td>\n      <td>-0.266813</td>\n      <td>0.211780</td>\n      <td>0.388677</td>\n      <td>-0.221098</td>\n      <td>...</td>\n      <td>-11.816962</td>\n      <td>-11.560169</td>\n      <td>-12.145857</td>\n      <td>-13.069620</td>\n      <td>-13.445762</td>\n      <td>-12.310140</td>\n      <td>-10.721929</td>\n      <td>-9.962431</td>\n      <td>-9.900070</td>\n      <td>-12.195379</td>\n    </tr>\n    <tr>\n      <th>29</th>\n      <td>364-120_GN_REM_fitting</td>\n      <td>REIG 80</td>\n      <td>Right</td>\n      <td>-14.533323</td>\n      <td>-18.625576</td>\n      <td>-25.226636</td>\n      <td>-26.975711</td>\n      <td>-27.643015</td>\n      <td>-29.067496</td>\n      <td>-31.369206</td>\n      <td>...</td>\n      <td>-11.537603</td>\n      <td>-12.148542</td>\n      <td>-13.026873</td>\n      <td>-13.519199</td>\n      <td>-14.376752</td>\n      <td>-15.653821</td>\n      <td>-15.078812</td>\n      <td>-13.740672</td>\n      <td>-13.362647</td>\n      <td>-14.320979</td>\n    </tr>\n    <tr>\n      <th>30</th>\n      <td>364-120_GN_REM_fitting</td>\n      <td>LTASS 65</td>\n      <td>Left</td>\n      <td>-0.391616</td>\n      <td>0.302707</td>\n      <td>-0.119158</td>\n      <td>-1.215392</td>\n      <td>-1.380171</td>\n      <td>-1.840220</td>\n      <td>-2.305812</td>\n      <td>...</td>\n      <td>-8.769172</td>\n      <td>-9.916514</td>\n      <td>-10.628460</td>\n      <td>-11.546807</td>\n      <td>-11.627067</td>\n      <td>-11.980341</td>\n      <td>-11.875342</td>\n      <td>-11.848585</td>\n      <td>-11.638205</td>\n      <td>-4.727802</td>\n    </tr>\n    <tr>\n      <th>31</th>\n      <td>364-120_GN_REM_fitting</td>\n      <td>LTASS 65</td>\n      <td>Right</td>\n      <td>-11.771584</td>\n      <td>-20.165886</td>\n      <td>-28.578488</td>\n      <td>-31.709725</td>\n      <td>-31.665862</td>\n      <td>-30.951105</td>\n      <td>-31.323975</td>\n      <td>...</td>\n      <td>-5.935015</td>\n      <td>-6.926867</td>\n      <td>-7.231438</td>\n      <td>-7.317298</td>\n      <td>-7.457371</td>\n      <td>-7.967784</td>\n      <td>-8.733485</td>\n      <td>-8.709175</td>\n      <td>-8.201251</td>\n      <td>-2.842244</td>\n    </tr>\n  </tbody>\n</table>\n<p>32 rows × 234 columns</p>\n</div>"
     },
     "metadata": {},
     "execution_count": 314
    }
   ],
   "source": [
    "REM[3]"
   ]
  },
  {
   "cell_type": "code",
   "execution_count": null,
   "metadata": {},
   "outputs": [],
   "source": []
  }
 ]
}